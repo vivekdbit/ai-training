{
 "cells": [
  {
   "cell_type": "code",
   "execution_count": 1,
   "metadata": {},
   "outputs": [
    {
     "name": "stdout",
     "output_type": "stream",
     "text": [
      "Defaulting to user installation because normal site-packages is not writeable\n",
      "Requirement already satisfied: nltk in /Users/vivek/Library/Python/3.9/lib/python/site-packages (3.9.1)\n",
      "Requirement already satisfied: tqdm in /Users/vivek/Library/Python/3.9/lib/python/site-packages (from nltk) (4.67.1)\n",
      "Requirement already satisfied: regex>=2021.8.3 in /Users/vivek/Library/Python/3.9/lib/python/site-packages (from nltk) (2024.11.6)\n",
      "Requirement already satisfied: joblib in /Users/vivek/Library/Python/3.9/lib/python/site-packages (from nltk) (1.4.2)\n",
      "Requirement already satisfied: click in /Users/vivek/Library/Python/3.9/lib/python/site-packages (from nltk) (8.1.7)\n",
      "\u001b[33mWARNING: You are using pip version 22.0.4; however, version 24.3.1 is available.\n",
      "You should consider upgrading via the '/usr/local/bin/python3 -m pip install --upgrade pip' command.\u001b[0m\u001b[33m\n",
      "\u001b[0mNote: you may need to restart the kernel to use updated packages.\n"
     ]
    }
   ],
   "source": [
    "pip install nltk"
   ]
  },
  {
   "cell_type": "code",
   "execution_count": 16,
   "metadata": {},
   "outputs": [],
   "source": [
    "import nltk\n",
    "\n",
    "# This is required for the first time to install all dependencies\n",
    "#nltk.download()\n",
    "\n",
    "corpus = \"Here's a shorter version. This will give you. a data structure with each individual sentence. each token within the sentence\""
   ]
  },
  {
   "cell_type": "code",
   "execution_count": 15,
   "metadata": {},
   "outputs": [
    {
     "data": {
      "text/plain": [
       "[\"Here's a shorter version.\",\n",
       " 'This will give you.',\n",
       " 'a data structure with each individual sentence.',\n",
       " 'each token within the sentence']"
      ]
     },
     "execution_count": 15,
     "metadata": {},
     "output_type": "execute_result"
    }
   ],
   "source": [
    "\n",
    "from nltk.tokenize import sent_tokenize\n",
    "sent_tokenize(corpus,)"
   ]
  },
  {
   "cell_type": "code",
   "execution_count": 17,
   "metadata": {},
   "outputs": [
    {
     "data": {
      "text/plain": [
       "['Here',\n",
       " \"'\",\n",
       " 's',\n",
       " 'a',\n",
       " 'shorter',\n",
       " 'version',\n",
       " '.',\n",
       " 'This',\n",
       " 'will',\n",
       " 'give',\n",
       " 'you',\n",
       " '.',\n",
       " 'a',\n",
       " 'data',\n",
       " 'structure',\n",
       " 'with',\n",
       " 'each',\n",
       " 'individual',\n",
       " 'sentence',\n",
       " '.',\n",
       " 'each',\n",
       " 'token',\n",
       " 'within',\n",
       " 'the',\n",
       " 'sentence']"
      ]
     },
     "execution_count": 17,
     "metadata": {},
     "output_type": "execute_result"
    }
   ],
   "source": [
    "# Convert para to words\n",
    "from nltk.tokenize import wordpunct_tokenize\n",
    "wordpunct_tokenize(corpus)"
   ]
  },
  {
   "cell_type": "code",
   "execution_count": 18,
   "metadata": {},
   "outputs": [
    {
     "data": {
      "text/plain": [
       "['Here',\n",
       " \"'s\",\n",
       " 'a',\n",
       " 'shorter',\n",
       " 'version.',\n",
       " 'This',\n",
       " 'will',\n",
       " 'give',\n",
       " 'you.',\n",
       " 'a',\n",
       " 'data',\n",
       " 'structure',\n",
       " 'with',\n",
       " 'each',\n",
       " 'individual',\n",
       " 'sentence.',\n",
       " 'each',\n",
       " 'token',\n",
       " 'within',\n",
       " 'the',\n",
       " 'sentence']"
      ]
     },
     "execution_count": 18,
     "metadata": {},
     "output_type": "execute_result"
    }
   ],
   "source": [
    "from nltk.tokenize import TreebankWordTokenizer\n",
    "tokenVar = TreebankWordTokenizer()\n",
    "tokenVar.tokenize(corpus)"
   ]
  }
 ],
 "metadata": {
  "kernelspec": {
   "display_name": ".venv",
   "language": "python",
   "name": "python3"
  },
  "language_info": {
   "codemirror_mode": {
    "name": "ipython",
    "version": 3
   },
   "file_extension": ".py",
   "mimetype": "text/x-python",
   "name": "python",
   "nbconvert_exporter": "python",
   "pygments_lexer": "ipython3",
   "version": "3.9.13"
  }
 },
 "nbformat": 4,
 "nbformat_minor": 2
}
