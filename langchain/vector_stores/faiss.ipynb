{
 "cells": [
  {
   "cell_type": "code",
   "execution_count": 20,
   "metadata": {},
   "outputs": [],
   "source": [
    "from langchain_community.document_loaders import TextLoader\n",
    "from langchain_community.vectorstores import FAISS, Chroma\n",
    "from langchain_community.embeddings import FakeEmbeddings\n",
    "from langchain_text_splitters import CharacterTextSplitter"
   ]
  },
  {
   "cell_type": "code",
   "execution_count": 16,
   "metadata": {},
   "outputs": [
    {
     "name": "stderr",
     "output_type": "stream",
     "text": [
      "Created a chunk of size 931, which is longer than the specified 500\n",
      "Created a chunk of size 2703, which is longer than the specified 500\n",
      "Created a chunk of size 901, which is longer than the specified 500\n",
      "Created a chunk of size 931, which is longer than the specified 500\n",
      "Created a chunk of size 3242, which is longer than the specified 500\n",
      "Created a chunk of size 687, which is longer than the specified 500\n",
      "Created a chunk of size 509, which is longer than the specified 500\n"
     ]
    }
   ],
   "source": [
    "# Load the documents\n",
    "loader = TextLoader(\"../documents/sample.txt\")\n",
    "documents = loader.load()\n",
    "\n",
    "# Split the documents into chunks\n",
    "text_splitter = CharacterTextSplitter(chunk_size=500, chunk_overlap=50)\n",
    "docs = text_splitter.split_documents(documents)"
   ]
  },
  {
   "cell_type": "code",
   "execution_count": 21,
   "metadata": {},
   "outputs": [],
   "source": [
    "# Load the embeddings\n",
    "#embeddings = OllamaEmbeddings()\n",
    "#db = FAISS.from_documents(docs, embeddings)\n",
    "\n",
    "# Use HuggingFace embeddings instead\n",
    "#embeddings = HuggingFaceEmbeddings(model_name=\"all-MiniLM-L6-v2\")\n",
    "#db = FAISS.from_documents(docs, embeddings)\n",
    "\n",
    "# Creates random 100-dimension embeddings\n",
    "embeddings = FakeEmbeddings(size=100)\n",
    "#db = FAISS.from_documents(docs, embeddings)\n",
    "db = Chroma.from_documents(docs, embeddings)"
   ]
  },
  {
   "cell_type": "code",
   "execution_count": 23,
   "metadata": {},
   "outputs": [
    {
     "data": {
      "text/plain": [
       "\"Our pick for: Airport lounge access\\nThe Platinum Card® from American Express\\nThe Platinum Card® from American Express\\n4.9\\nNerdWallet rating\\non American Express' website\\nAnnual fee\\n$799\\nInterest rates\\nVaries\\nRewards rate\\n1x-2x Points\\nIntro offer\\nUp to 100,000 Points\\nRecommended credit score\\nN/A\\nOur pick for: Travel insurance\\nAmerican Express® Gold Rewards Card\\nAmerican Express® Gold Rewards Card\\n5.0\\nNerdWallet rating\\non American Express' website\\nAnnual fee\\n$250\\nInterest rates\\n21.99% / 21.99%\\nRewards rate\\n1x-2x Points\\nIntro offer\\nUp to 60,000 Points\\nRecommended credit score\\n660-724\\nOur pick for: Hotels\\nMarriott Bonvoy® American Express®* Card\\nMarriott Bonvoy® American Express®* Card\\n4.7\\nNerdWallet rating\\non American Express' website\\nAnnual fee\\n$120\\nInterest rates\\n21.99% / 21.99%\\nRewards rate\\n2x-5x Points\\nIntro offer\\nUp to 50,000 Points\\nRecommended credit score\\n560-900\\nBest starter and newcomer credit cards\\nFilter by\\nall\""
      ]
     },
     "execution_count": 23,
     "metadata": {},
     "output_type": "execute_result"
    }
   ],
   "source": [
    "query = \"what is nerd wallet?\"\n",
    "docs = db.similarity_search(query)\n",
    "docs[0].page_content"
   ]
  },
  {
   "cell_type": "code",
   "execution_count": 24,
   "metadata": {},
   "outputs": [
    {
     "data": {
      "text/plain": [
       "[(Document(metadata={'source': '../documents/sample.txt'}, page_content='Can Americans get a Canadian credit card?\\nYes. Several Canadian banks offer non-resident and newcomer credit cards, including RBC, Scotiabank, TD, and more. These card programs are designed for newcomers and temporary residents and typically don’t require a credit check.\\n\\nUS citizens can also explore secured or prepaid credit card options. These Canadian credit cards require cash deposits before they can be used and can be a practical option for those paying a visit to the Great White North.'),\n",
       "  144.26904296875),\n",
       " (Document(metadata={'source': '../documents/sample.txt'}, page_content='Capitalize on limited-time promotions. Keep an ear out for time-sensitive promotional periods when your points may be worth more.\\n\\nWatch out for expiration dates. Some points expire after a prolonged period of card inactivity, so keep your card in good standing to maintain your point balance.\\n\\nWhat credit cards are the most accepted in Canada?\\nMastercard and Visa credit cards are the most accepted cards in Canada, although one major retailer doesn’t take Visa: Costco.'),\n",
       "  146.23663330078125),\n",
       " (Document(metadata={'source': '../documents/sample.txt'}, page_content='Cash back. For every purchase you make, get a set percentage back in cash. The pay-out date for your cash back earned differs depending on the card. It can be monthly, annually or when you reach a minimum threshold.\\n\\nTravel benefits. Credit card travel rewards programs let you earn points or miles when you make purchases. You can use your rewards to offset the cost of flights, hotels, car rentals, vacation packages and more.'),\n",
       "  163.54367065429688),\n",
       " (Document(metadata={'source': '../documents/sample.txt'}, page_content=\"Best overall travel card\\nScotiabank Platinum American Express® Card\\n4.7/5\\nScotiabank Platinum American Express® Card\\nAnnual fee\\n$399\\nInterest rates\\n9.99%\\nRewards rate\\n2x Points\\non Scotiabank's website\\nWith no foreign transaction fees and double-digit annual airport lounge passes, the Scotiabank Platinum American Express card distinguishes itself from the competition with premium travel perks at a more accessible price point. Whether swiping at the grocery store, filling a gas tank or shopping online, this low-interest card’s straightforward earn rate — 2 Scene+ points per dollar spent, and up to 3 points per dollar on hotel and rental bookings — makes it easy to rack up rewards.\"),\n",
       "  176.05690002441406)]"
      ]
     },
     "execution_count": 24,
     "metadata": {},
     "output_type": "execute_result"
    }
   ],
   "source": [
    "# Similarity search\n",
    "docs_and_score = db.similarity_search_with_score(query)\n",
    "docs_and_score"
   ]
  }
 ],
 "metadata": {
  "kernelspec": {
   "display_name": ".venv",
   "language": "python",
   "name": "python3"
  },
  "language_info": {
   "codemirror_mode": {
    "name": "ipython",
    "version": 3
   },
   "file_extension": ".py",
   "mimetype": "text/x-python",
   "name": "python",
   "nbconvert_exporter": "python",
   "pygments_lexer": "ipython3",
   "version": "3.12.8"
  }
 },
 "nbformat": 4,
 "nbformat_minor": 2
}
