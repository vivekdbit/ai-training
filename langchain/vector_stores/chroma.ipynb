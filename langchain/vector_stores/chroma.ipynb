{
 "cells": [
  {
   "cell_type": "code",
   "execution_count": 8,
   "metadata": {},
   "outputs": [],
   "source": [
    "# Building sample vector store db\n",
    "from langchain_chroma import Chroma\n",
    "from langchain_community.document_loaders import TextLoader\n",
    "from langchain_community.embeddings import FakeEmbeddings\n",
    "from langchain_text_splitters import RecursiveCharacterTextSplitter"
   ]
  },
  {
   "cell_type": "code",
   "execution_count": 9,
   "metadata": {},
   "outputs": [],
   "source": [
    "# Load the documents\n",
    "loader = TextLoader(\"../documents/sample.txt\")\n",
    "documents = loader.load()\n",
    "\n",
    "# Split the documents into chunks\n",
    "text_splitter = RecursiveCharacterTextSplitter(chunk_size=500, chunk_overlap=50)\n",
    "splits = text_splitter.split_documents(documents)"
   ]
  },
  {
   "cell_type": "code",
   "execution_count": 10,
   "metadata": {},
   "outputs": [],
   "source": [
    "embeddings = FakeEmbeddings(size=500)\n",
    "db = Chroma.from_documents(documents=splits, embedding=embeddings)"
   ]
  },
  {
   "cell_type": "code",
   "execution_count": 15,
   "metadata": {},
   "outputs": [
    {
     "data": {
      "text/plain": [
       "[(Document(id='826b71fc-b592-45b6-a1aa-c503b6ea812f', metadata={'source': '../documents/sample.txt'}, page_content='NerdWallet Canada selects the best credit cards based on overall consumer value as well as their suitability for specific kinds of consumers. Factors in our evaluation methodology include each card’s earning rates, rewards structure (such as flat-rate or bonus categories), annual fee, redemption options, promotional APR period for purchases, bonus offers for new cardholders, and noteworthy features such as insurance, loyalty bonuses or the ability to choose one’s own rewards categories.'),\n",
       "  943.633544921875),\n",
       " (Document(id='cba6f5a1-10c4-4e5c-ad3b-a15b9a608a90', metadata={'source': '../documents/sample.txt'}, page_content=\"Our pick for: Airport lounge access\\nThe Platinum Card® from American Express\\nThe Platinum Card® from American Express\\n4.9\\nNerdWallet rating\\non American Express' website\\nAnnual fee\\n$799\\nInterest rates\\nVaries\\nRewards rate\\n1x-2x Points\\nIntro offer\\nUp to 100,000 Points\\nRecommended credit score\\nN/A\\nOur pick for: Travel insurance\\nAmerican Express® Gold Rewards Card\\nAmerican Express® Gold Rewards Card\\n5.0\\nNerdWallet rating\\non American Express' website\\nAnnual fee\\n$250\\nInterest rates\\n21.99% / 21.99%\"),\n",
       "  947.375732421875),\n",
       " (Document(id='b6bff102-5d59-4237-8788-1316e1985f7e', metadata={'source': '../documents/sample.txt'}, page_content='With no foreign transaction fees and double-digit annual airport lounge passes, the Scotiabank Platinum American Express card distinguishes itself from the competition with premium travel perks at a more accessible price point. Whether swiping at the grocery store, filling a gas tank or shopping online, this low-interest card’s straightforward earn rate — 2 Scene+ points per dollar spent, and up to 3 points per dollar on hotel and rental bookings — makes it easy to rack up rewards.'),\n",
       "  960.0911865234375),\n",
       " (Document(id='bec535cc-3b1f-4284-a696-94e9ffc6564c', metadata={'source': '../documents/sample.txt'}, page_content=\"SimplyCash® Preferred Card from American Express\\t\\non American Express' website\\nSimplyCash® Preferred Card from American Express\\t\\n5.0/5\\n$119.88\\n21.99%/21.99%\\n2%-4%\\nThe Platinum Card® from American Express\\t\\non American Express' website\\nThe Platinum Card® from American Express\\t\\n4.9/5\\n$799\\nVaries\\n1x-2x Points\\nCIBC Aeroplan® Visa* Business Card\\t\\nCIBC Aeroplan® Visa* Business Card\\n4.7/5\\n$180\\nWaived first year\\t\\n12.99%-18.99%/14.50%-21.50%\\n1x-2x Points\\nMarriott Bonvoy® American Express®* Card\"),\n",
       "  961.9744873046875)]"
      ]
     },
     "execution_count": 15,
     "metadata": {},
     "output_type": "execute_result"
    }
   ],
   "source": [
    "# Query the db\n",
    "query = \"How much intrest rate does Nerdwallet charge for credit cards?\"\n",
    "docs = db.similarity_search_with_score(query)\n",
    "docs"
   ]
  }
 ],
 "metadata": {
  "kernelspec": {
   "display_name": ".venv",
   "language": "python",
   "name": "python3"
  },
  "language_info": {
   "codemirror_mode": {
    "name": "ipython",
    "version": 3
   },
   "file_extension": ".py",
   "mimetype": "text/x-python",
   "name": "python",
   "nbconvert_exporter": "python",
   "pygments_lexer": "ipython3",
   "version": "3.12.8"
  }
 },
 "nbformat": 4,
 "nbformat_minor": 2
}
